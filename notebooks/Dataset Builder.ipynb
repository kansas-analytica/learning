{
 "cells": [
  {
   "cell_type": "markdown",
   "metadata": {},
   "source": [
    "## Dataset Builder\n",
    "This will build a dataset which can then be utilized to build machine learning models. It will essentially modify the accounts table by adding a few useful values such as average tweet sentiment, average tweet length, average number of hashtags used, and some other data"
   ]
  },
  {
   "cell_type": "code",
   "execution_count": 1,
   "metadata": {},
   "outputs": [],
   "source": [
    "import numpy as np\n",
    "import pandas as pd"
   ]
  },
  {
   "cell_type": "code",
   "execution_count": 2,
   "metadata": {},
   "outputs": [
    {
     "name": "stdout",
     "output_type": "stream",
     "text": [
      "(39522, 10)\n",
      "id               int64\n",
      "name            object\n",
      "screen_name     object\n",
      "description     object\n",
      "date_created    object\n",
      "followers        int64\n",
      "following        int64\n",
      "last_updated    object\n",
      "image_url       object\n",
      "is_bot          object\n",
      "dtype: object\n"
     ]
    }
   ],
   "source": [
    "accounts = pd.read_csv('../data/data.csv')\n",
    "accounts.dropna(inplace=True)\n",
    "print(accounts.shape)\n",
    "print(accounts.dtypes)"
   ]
  },
  {
   "cell_type": "code",
   "execution_count": 3,
   "metadata": {},
   "outputs": [],
   "source": [
    "# TODO GET RID OF THIS WHEN WE HAVE ACTUAL LABELS\n",
    "import random\n",
    "vals = ['NOT', 'BOT', 'UNKNOWN']\n",
    "accounts['category'] = [random.choice(vals) for k in accounts.index]\n",
    "accounts['bot_ratio']= [random.uniform(0,1) for k in accounts.index]"
   ]
  },
  {
   "cell_type": "code",
   "execution_count": 4,
   "metadata": {},
   "outputs": [],
   "source": [
    "# calculate follower-following ratio\n",
    "def calculate_f2f(row):\n",
    "    try:\n",
    "        val = row['followers'] / row['following']\n",
    "    except ZeroDivisionError:\n",
    "        val = 9999999999999\n",
    "    return val\n",
    "\n",
    "accounts['f2f'] = accounts.apply (lambda row: calculate_f2f(row), axis=1)"
   ]
  },
  {
   "cell_type": "code",
   "execution_count": 5,
   "metadata": {},
   "outputs": [],
   "source": [
    "# check if description for account contains 'bot', 'parody' or 'fake'\n",
    "def guess_if_bot(row):\n",
    "    _str = row['description'].lower() + row['screen_name'].lower()\n",
    "    flag = 0\n",
    "    bot_words = ['bot', 'paroody', 'fake']\n",
    "    if any(word in _str for word in bot_words):\n",
    "        flag = 1\n",
    "    return flag\n",
    "\n",
    "accounts['bot_guess'] = accounts.apply(lambda row: guess_if_bot(row), axis = 1)"
   ]
  },
  {
   "cell_type": "code",
   "execution_count": 6,
   "metadata": {},
   "outputs": [
    {
     "name": "stdout",
     "output_type": "stream",
     "text": [
      "(145436, 4)\n",
      "created_at    object\n",
      "id_str         int64\n",
      "text          object\n",
      "user_id        int64\n",
      "dtype: object\n"
     ]
    }
   ],
   "source": [
    "tweets = pd.read_csv('../data/tweets.csv')\n",
    "tweets.dropna(inplace = True)\n",
    "print(tweets.shape)\n",
    "print(tweets.dtypes)"
   ]
  },
  {
   "cell_type": "code",
   "execution_count": 7,
   "metadata": {},
   "outputs": [],
   "source": [
    "import string\n",
    "import re    \n",
    "def remove_punct(row):\n",
    "    s = row['text']\n",
    "    remove = string.punctuation\n",
    "    remove = remove.replace(\"#\", \"\")\n",
    "    remove = remove.replace(\"@\", \"\")\n",
    "    pattern = r\"[{}]\".format(remove)\n",
    "    s = re.sub(pattern, \"\", s)\n",
    "    return s\n",
    "\n",
    "tweets['text'] = tweets.apply(lambda row: remove_punct(row), axis = 1)"
   ]
  },
  {
   "cell_type": "code",
   "execution_count": 8,
   "metadata": {},
   "outputs": [],
   "source": [
    "# add some weak NLP stuff \n",
    "from textblob import TextBlob\n",
    "tweets[['polarity', 'subjectivity']] = tweets['text'].apply(lambda Text: pd.Series(TextBlob(Text).sentiment))"
   ]
  },
  {
   "cell_type": "markdown",
   "metadata": {},
   "source": [
    "Need to write a function that gathers stats about tweets from a given account. We will want to track the average tweet length, average number of hashtags used and average tweet sentiment (polarity & subjectivity)."
   ]
  },
  {
   "cell_type": "code",
   "execution_count": 9,
   "metadata": {},
   "outputs": [],
   "source": [
    "def get_tweet_info(row):\n",
    "    row = row[1]\n",
    "    tweet = row['text']\n",
    "    pol = row['polarity']\n",
    "    sub = row['subjectivity']\n",
    "    length = len(tweet)\n",
    "    hashtags = len(re.findall(\"#\", tweet))\n",
    "    mentions = len(re.findall(\"@\", tweet))\n",
    "    return (pol, sub, length, hashtags, mentions)"
   ]
  },
  {
   "cell_type": "code",
   "execution_count": 10,
   "metadata": {},
   "outputs": [],
   "source": [
    "from statistics import mean\n",
    "def get_tweets_for_user(row):\n",
    "    uid = row['id']\n",
    "    user_tweets = tweets[tweets['user_id'] == uid]\n",
    "    if not user_tweets.empty:\n",
    "        pols = []\n",
    "        subs = []\n",
    "        lengths = []\n",
    "        hashtags = []\n",
    "        mentions = []\n",
    "    \n",
    "        for row in user_tweets.iterrows():\n",
    "            \n",
    "            pol, sub, length, hashtag, mention = get_tweet_info(row)\n",
    "            pols.append(pol)\n",
    "            subs.append(sub)\n",
    "            lengths.append(length)\n",
    "            hashtags.append(hashtag)\n",
    "            mentions.append(mention)\n",
    "    \n",
    "        ave_pol = mean(pols)\n",
    "        ave_sub = mean(subs)\n",
    "        ave_length = mean(lengths)\n",
    "        ave_hashtags = mean(hashtags)\n",
    "        ave_mentions = mean(mentions)\n",
    "    \n",
    "        return [ave_pol, ave_sub, ave_length, ave_hashtags, ave_mentions]\n",
    "    else:\n",
    "        return 0"
   ]
  },
  {
   "cell_type": "code",
   "execution_count": 11,
   "metadata": {},
   "outputs": [],
   "source": [
    "cols = ['ave_polarity', 'ave_subjectivity', 'ave_length', 'ave_hashtags', 'ave_mentions']\n",
    "for name in cols:\n",
    "    accounts[name] = random.random()"
   ]
  },
  {
   "cell_type": "code",
   "execution_count": 12,
   "metadata": {},
   "outputs": [],
   "source": [
    "for i, row in accounts.iterrows():\n",
    "    l = get_tweets_for_user(row)\n",
    "    if l:\n",
    "        j = 0\n",
    "        for name in cols:\n",
    "            accounts.at[i, name] = l[j]\n",
    "            j += 1"
   ]
  },
  {
   "cell_type": "code",
   "execution_count": 13,
   "metadata": {},
   "outputs": [
    {
     "data": {
      "text/html": [
       "<div>\n",
       "<style scoped>\n",
       "    .dataframe tbody tr th:only-of-type {\n",
       "        vertical-align: middle;\n",
       "    }\n",
       "\n",
       "    .dataframe tbody tr th {\n",
       "        vertical-align: top;\n",
       "    }\n",
       "\n",
       "    .dataframe thead th {\n",
       "        text-align: right;\n",
       "    }\n",
       "</style>\n",
       "<table border=\"1\" class=\"dataframe\">\n",
       "  <thead>\n",
       "    <tr style=\"text-align: right;\">\n",
       "      <th></th>\n",
       "      <th>id</th>\n",
       "      <th>name</th>\n",
       "      <th>screen_name</th>\n",
       "      <th>description</th>\n",
       "      <th>date_created</th>\n",
       "      <th>followers</th>\n",
       "      <th>following</th>\n",
       "      <th>last_updated</th>\n",
       "      <th>image_url</th>\n",
       "      <th>is_bot</th>\n",
       "      <th>category</th>\n",
       "      <th>bot_ratio</th>\n",
       "      <th>f2f</th>\n",
       "      <th>bot_guess</th>\n",
       "      <th>ave_polarity</th>\n",
       "      <th>ave_subjectivity</th>\n",
       "      <th>ave_length</th>\n",
       "      <th>ave_hashtags</th>\n",
       "      <th>ave_mentions</th>\n",
       "    </tr>\n",
       "  </thead>\n",
       "  <tbody>\n",
       "    <tr>\n",
       "      <th>0</th>\n",
       "      <td>74013</td>\n",
       "      <td>CJ n TX</td>\n",
       "      <td>ccjones</td>\n",
       "      <td>Nothing is as it seems.</td>\n",
       "      <td>2006-12-16 18:21:51</td>\n",
       "      <td>3918</td>\n",
       "      <td>3398</td>\n",
       "      <td>2019-04-13 08:10:57</td>\n",
       "      <td>http://pbs.twimg.com/profile_images/1060243585...</td>\n",
       "      <td>unknown</td>\n",
       "      <td>UNKNOWN</td>\n",
       "      <td>0.954182</td>\n",
       "      <td>1.153031</td>\n",
       "      <td>0</td>\n",
       "      <td>0.0000</td>\n",
       "      <td>0.250000</td>\n",
       "      <td>136.0</td>\n",
       "      <td>0.0</td>\n",
       "      <td>1.0</td>\n",
       "    </tr>\n",
       "    <tr>\n",
       "      <th>1</th>\n",
       "      <td>681403</td>\n",
       "      <td>Jason Benway</td>\n",
       "      <td>BenwayNet</td>\n",
       "      <td>Christian,husband,father,Computer geek, and xb...</td>\n",
       "      <td>2007-01-22 16:42:28</td>\n",
       "      <td>1068</td>\n",
       "      <td>1560</td>\n",
       "      <td>2019-04-15 00:32:18</td>\n",
       "      <td>http://pbs.twimg.com/profile_images/1111705638...</td>\n",
       "      <td>unknown</td>\n",
       "      <td>BOT</td>\n",
       "      <td>0.448861</td>\n",
       "      <td>0.684615</td>\n",
       "      <td>0</td>\n",
       "      <td>0.0000</td>\n",
       "      <td>0.000000</td>\n",
       "      <td>122.0</td>\n",
       "      <td>2.0</td>\n",
       "      <td>3.0</td>\n",
       "    </tr>\n",
       "    <tr>\n",
       "      <th>2</th>\n",
       "      <td>736463</td>\n",
       "      <td>Won Peace of a Hole</td>\n",
       "      <td>dtweete</td>\n",
       "      <td>probably a bot.                                 ✝</td>\n",
       "      <td>2007-01-31 07:20:08</td>\n",
       "      <td>624</td>\n",
       "      <td>1610</td>\n",
       "      <td>2019-04-14 06:21:22</td>\n",
       "      <td>http://pbs.twimg.com/profile_images/149195479/...</td>\n",
       "      <td>unknown</td>\n",
       "      <td>BOT</td>\n",
       "      <td>0.195416</td>\n",
       "      <td>0.387578</td>\n",
       "      <td>1</td>\n",
       "      <td>0.0625</td>\n",
       "      <td>0.218750</td>\n",
       "      <td>137.5</td>\n",
       "      <td>0.0</td>\n",
       "      <td>1.5</td>\n",
       "    </tr>\n",
       "    <tr>\n",
       "      <th>3</th>\n",
       "      <td>755703</td>\n",
       "      <td>Dean Roth</td>\n",
       "      <td>deanroth</td>\n",
       "      <td>See that name up there? That's me. \\n\\nAlso av...</td>\n",
       "      <td>2007-02-07 04:13:21</td>\n",
       "      <td>649</td>\n",
       "      <td>790</td>\n",
       "      <td>2019-04-13 16:11:00</td>\n",
       "      <td>http://pbs.twimg.com/profile_images/4706719918...</td>\n",
       "      <td>unknown</td>\n",
       "      <td>BOT</td>\n",
       "      <td>0.391906</td>\n",
       "      <td>0.821519</td>\n",
       "      <td>0</td>\n",
       "      <td>0.0000</td>\n",
       "      <td>0.625000</td>\n",
       "      <td>138.0</td>\n",
       "      <td>0.0</td>\n",
       "      <td>2.0</td>\n",
       "    </tr>\n",
       "    <tr>\n",
       "      <th>4</th>\n",
       "      <td>759066</td>\n",
       "      <td>David Neuland</td>\n",
       "      <td>Galloway</td>\n",
       "      <td>Engineer, writer, Mac-addict. I. Am. Not. Geor...</td>\n",
       "      <td>2007-02-08 23:18:36</td>\n",
       "      <td>173</td>\n",
       "      <td>458</td>\n",
       "      <td>2019-04-14 04:50:49</td>\n",
       "      <td>http://pbs.twimg.com/profile_images/22917772/I...</td>\n",
       "      <td>unknown</td>\n",
       "      <td>NOT</td>\n",
       "      <td>0.578891</td>\n",
       "      <td>0.377729</td>\n",
       "      <td>0</td>\n",
       "      <td>0.0000</td>\n",
       "      <td>0.066667</td>\n",
       "      <td>123.0</td>\n",
       "      <td>0.0</td>\n",
       "      <td>1.0</td>\n",
       "    </tr>\n",
       "  </tbody>\n",
       "</table>\n",
       "</div>"
      ],
      "text/plain": [
       "       id                 name screen_name  \\\n",
       "0   74013              CJ n TX     ccjones   \n",
       "1  681403         Jason Benway   BenwayNet   \n",
       "2  736463  Won Peace of a Hole     dtweete   \n",
       "3  755703            Dean Roth    deanroth   \n",
       "4  759066        David Neuland    Galloway   \n",
       "\n",
       "                                         description         date_created  \\\n",
       "0                           Nothing is as it seems.   2006-12-16 18:21:51   \n",
       "1  Christian,husband,father,Computer geek, and xb...  2007-01-22 16:42:28   \n",
       "2  probably a bot.                                 ✝  2007-01-31 07:20:08   \n",
       "3  See that name up there? That's me. \\n\\nAlso av...  2007-02-07 04:13:21   \n",
       "4  Engineer, writer, Mac-addict. I. Am. Not. Geor...  2007-02-08 23:18:36   \n",
       "\n",
       "   followers  following         last_updated  \\\n",
       "0       3918       3398  2019-04-13 08:10:57   \n",
       "1       1068       1560  2019-04-15 00:32:18   \n",
       "2        624       1610  2019-04-14 06:21:22   \n",
       "3        649        790  2019-04-13 16:11:00   \n",
       "4        173        458  2019-04-14 04:50:49   \n",
       "\n",
       "                                           image_url   is_bot category  \\\n",
       "0  http://pbs.twimg.com/profile_images/1060243585...  unknown  UNKNOWN   \n",
       "1  http://pbs.twimg.com/profile_images/1111705638...  unknown      BOT   \n",
       "2  http://pbs.twimg.com/profile_images/149195479/...  unknown      BOT   \n",
       "3  http://pbs.twimg.com/profile_images/4706719918...  unknown      BOT   \n",
       "4  http://pbs.twimg.com/profile_images/22917772/I...  unknown      NOT   \n",
       "\n",
       "   bot_ratio       f2f  bot_guess  ave_polarity  ave_subjectivity  ave_length  \\\n",
       "0   0.954182  1.153031          0        0.0000          0.250000       136.0   \n",
       "1   0.448861  0.684615          0        0.0000          0.000000       122.0   \n",
       "2   0.195416  0.387578          1        0.0625          0.218750       137.5   \n",
       "3   0.391906  0.821519          0        0.0000          0.625000       138.0   \n",
       "4   0.578891  0.377729          0        0.0000          0.066667       123.0   \n",
       "\n",
       "   ave_hashtags  ave_mentions  \n",
       "0           0.0           1.0  \n",
       "1           2.0           3.0  \n",
       "2           0.0           1.5  \n",
       "3           0.0           2.0  \n",
       "4           0.0           1.0  "
      ]
     },
     "execution_count": 13,
     "metadata": {},
     "output_type": "execute_result"
    }
   ],
   "source": [
    "accounts.head(5)"
   ]
  },
  {
   "cell_type": "code",
   "execution_count": 14,
   "metadata": {},
   "outputs": [],
   "source": [
    "accounts.to_csv(path_or_buf='../data/accounts_processed.csv')"
   ]
  }
 ],
 "metadata": {
  "kernelspec": {
   "display_name": "Python 3",
   "language": "python",
   "name": "python3"
  },
  "language_info": {
   "codemirror_mode": {
    "name": "ipython",
    "version": 3
   },
   "file_extension": ".py",
   "mimetype": "text/x-python",
   "name": "python",
   "nbconvert_exporter": "python",
   "pygments_lexer": "ipython3",
   "version": "3.6.8"
  }
 },
 "nbformat": 4,
 "nbformat_minor": 2
}
